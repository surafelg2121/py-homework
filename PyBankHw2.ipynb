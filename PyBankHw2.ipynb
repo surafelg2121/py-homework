{
 "cells": [
  {
   "cell_type": "code",
   "execution_count": 69,
   "metadata": {},
   "outputs": [],
   "source": [
    "#importing csv file\n",
    "from pathlib import Path\n",
    "import csv\n",
    "import os"
   ]
  },
  {
   "cell_type": "code",
   "execution_count": 80,
   "metadata": {},
   "outputs": [],
   "source": [
    "#create placeholder lists for the data\n",
    "months =[]\n",
    "total = []"
   ]
  },
  {
   "cell_type": "code",
   "execution_count": 81,
   "metadata": {},
   "outputs": [
    {
     "name": "stdout",
     "output_type": "stream",
     "text": [
      "<class '_csv.reader'>\n",
      "['Date', 'Profit/Losses']\n"
     ]
    }
   ],
   "source": [
    "#finding path row and header of data\n",
    "filepath=(\"../budget_data.csv\")\n",
    "\n",
    "with open(\"budget_data.csv\",\"r\") as csvfile:\n",
    "    csvreader = csv.reader(csvfile, delimiter=',')\n",
    "    print(type(csvreader))\n",
    "    header = next(csvreader)\n",
    "    print(header)\n",
    "    for row in csvreader:\n",
    "        months.append(row[0])\n",
    "        total.append(int(row[1]))\n"
   ]
  },
  {
   "cell_type": "code",
   "execution_count": 82,
   "metadata": {},
   "outputs": [],
   "source": [
    "#number of months\n",
    "number_months = len(months)\n"
   ]
  },
  {
   "cell_type": "code",
   "execution_count": 86,
   "metadata": {},
   "outputs": [
    {
     "name": "stdout",
     "output_type": "stream",
     "text": [
      "Financial Analysis\n",
      "----------------------------\n",
      "Months: 86\n",
      "Total: $38382578\n",
      "Average Change: -2315.12\n",
      "Greatest Increase in Profits: Feb-2012 ($1926159)\n",
      "Greates Decrease in Profits: Sep-2013 ($-2196167)\n"
     ]
    }
   ],
   "source": [
    "#set variables for loops\n",
    "a = 1\n",
    "b = 0\n",
    "     \n",
    "#average change place holder\n",
    "average_change = (total[1]-total[0])\n",
    "     \n",
    "#place holder list for changes \n",
    "change = []\n",
    "     \n",
    "#calculatng month to month change\n",
    "for month in range(number_months-1):\n",
    "    average_change = (total[a] - total[b])\n",
    "    change.append(int(average_change))\n",
    "    a+=1\n",
    "    b+=1\n",
    "        \n",
    "#Calcuating the average monthly change   \n",
    "avg_month_change = round(sum(change)/(number_months -1),2)\n",
    " \n",
    "#minimun and maximum changes\n",
    "min_change = min(change)\n",
    "max_change = max(change)\n",
    " \n",
    "#formula to find the index in the list\n",
    "change_min = change.index(min_change)\n",
    "change_max = change.index(max_change)\n",
    "     \n",
    "#min and max monthly changes\n",
    "min_change_month = months[change_min + 1]\n",
    "max_change_month = months[change_max + 1]\n",
    "   \n",
    "#Printing the results \n",
    "print(\"Financial Analysis\")\n",
    "print(\"----------------------------\")\n",
    "print(f\"Months: {len(months)}\")\n",
    "print(f\"Total: ${sum(net_total)}\")\n",
    "print(f\"Average Change: {avg_month_change}\")\n",
    "print(f\"Greatest Increase in Profits: {max_change_month} (${max_change})\")\n",
    "print(f\"Greates Decrease in Profits: {min_change_month} (${min_change})\")\n",
    " \n",
    "#Write the output to a text file\n",
    "financial_analysis = open(\"Financial_Analysis.txt\",\"w\")\n",
    " \n",
    "financial_analysis.write(\"Financial Analysis\\n\")\n",
    "financial_analysis.write(\"----------------------------\\n\")\n",
    "financial_analysis.write(f\"Months: {len(months)}\\n\")\n",
    "financial_analysis.write(f\"Total: ${sum(net_total)}\\n\")\n",
    "financial_analysis.write(f\"Average Change: {avg_month_change}\\n\")\n",
    "financial_analysis.write(f\"Greatest Increase in Profits: {max_change_month} (${max_change})\\n\")\n",
    "financial_analysis.write(f\"Greatest Decrease in Profits: {min_change_month} (${min_change})\\n\")\n",
    " \n",
    "financial_analysis.close() "
   ]
  },
  {
   "cell_type": "code",
   "execution_count": null,
   "metadata": {},
   "outputs": [],
   "source": []
  },
  {
   "cell_type": "code",
   "execution_count": null,
   "metadata": {},
   "outputs": [],
   "source": []
  }
 ],
 "metadata": {
  "kernelspec": {
   "display_name": "Python 3",
   "language": "python",
   "name": "python3"
  },
  "language_info": {
   "codemirror_mode": {
    "name": "ipython",
    "version": 3
   },
   "file_extension": ".py",
   "mimetype": "text/x-python",
   "name": "python",
   "nbconvert_exporter": "python",
   "pygments_lexer": "ipython3",
   "version": "3.8.3"
  }
 },
 "nbformat": 4,
 "nbformat_minor": 4
}
